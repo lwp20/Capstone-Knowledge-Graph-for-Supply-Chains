{
 "cells": [
  {
   "cell_type": "code",
   "execution_count": 1,
   "id": "48fab57c",
   "metadata": {},
   "outputs": [
    {
     "name": "stderr",
     "output_type": "stream",
     "text": [
      "C:\\ProgramData\\Anaconda3\\envs\\torchgpu\\lib\\site-packages\\tqdm\\auto.py:22: TqdmWarning: IProgress not found. Please update jupyter and ipywidgets. See https://ipywidgets.readthedocs.io/en/stable/user_install.html\n",
      "  from .autonotebook import tqdm as notebook_tqdm\n"
     ]
    }
   ],
   "source": [
    "from sentence_transformers import SentenceTransformer\n",
    "import pandas as pd\n",
    "import json\n",
    "import numpy as np\n",
    "from sentence_transformers import SentenceTransformer\n",
    "#torch_gpu\n"
   ]
  },
  {
   "cell_type": "code",
   "execution_count": 28,
   "id": "6b1100cb",
   "metadata": {},
   "outputs": [
    {
     "name": "stdout",
     "output_type": "stream",
     "text": [
      "' As such, collaboration contributes to reduced uncertainty and event readiness (Cranfield School of Management, 2003)'\n",
      "{\"text\": \" As such, collaboration contributes to reduced uncertainty and event readiness (Cranfield School of Management, 2003)\"}\n",
      " As such, collaboration contributes to reduced uncertainty and event readiness (Cranfield School of Management, 2003)\n"
     ]
    }
   ],
   "source": [
    "a=\"{'text': ' As such, collaboration contributes to reduced uncertainty and event readiness (Cranfield School of Management, 2003)'}\"\n",
    "print(a[9:-1])\n",
    "\n",
    "b=a.replace(\"'\",\"\\\"\")\n",
    "print(b)\n",
    "print(json.loads(b)[\"text\"])"
   ]
  },
  {
   "cell_type": "code",
   "execution_count": null,
   "id": "fb3ec8d4",
   "metadata": {},
   "outputs": [],
   "source": [
    "s=\"{\"text\": \"In line with the Alliance\"s resilience strategy,11 we have set up and simulate a baseline scenario and two adverse scenarios\"}\""
   ]
  },
  {
   "cell_type": "code",
   "execution_count": 33,
   "id": "5e5ff9cd",
   "metadata": {},
   "outputs": [],
   "source": [
    "def generate_embeddings(name):\n",
    "    table=pd.read_excel(name)\n",
    "    sentences = []\n",
    "    count=0\n",
    "    for i in range(0,len(table)):\n",
    "        \n",
    "        \n",
    "      \n",
    "        try:\n",
    "            sentence=table[\"metadata\"][i][9:-1]\n",
    "            sentences.append(sentence)\n",
    "  \n",
    "        except:\n",
    "            count=count+1\n",
    "            print(i)\n",
    "            print(rs)\n",
    "\n",
    "        \n",
    "        if i%10000==0:\n",
    "            print(i)\n",
    "            print(sentences[-1])\n",
    "            \n",
    "    print(count)\n",
    "                   \n",
    "    model = SentenceTransformer('sentence-transformers/all-MiniLM-L6-v2',device=\"cuda\")\n",
    "    embeddings = model.encode(sentences,batch_size=128)\n",
    "    np.save(\"embeddings.npy\",embeddings)\n",
    "    \"\"\"table['values'] = table['values'].astype('object')\n",
    "    for i in range(0,len(table)):\n",
    "        table.at[i,\"values\"]=embeddings[i]\n",
    "    table.to_excel(\"output.xlsx\")\"\"\"\n",
    "    "
   ]
  },
  {
   "cell_type": "code",
   "execution_count": 34,
   "id": "9758a42c",
   "metadata": {},
   "outputs": [
    {
     "name": "stdout",
     "output_type": "stream",
     "text": [
      "0\n",
      "'com Se international journal of  production economics  ScienceDirect  Int'\n",
      "10000\n",
      "') was to enhance the environmental performance of the firm (reduction of solid/liquid waste, reduction of emission, improvement of compliance)'\n",
      "20000\n",
      "' Such an absence is possibly explicable on two grounds: the multidisciplinary nature of SCM makes it difficult to distinguish, let alone control, all variables, particularly the social and cultural ones; and SCM usually forms part of large, expensive, mission-critical activities upon which organizations are reluctant to conduct experiments due to the high risk of adverse consequences'\n",
      "30000\n",
      "'” This defini- uncertainty and trust in the trading partner, it seems a rea- tion depicts a variety of relationship-specific investments, sonable assumption that increasing costs of evaluating the including both specialized physical and human capital, performance of the partner created by behavioral uncer- along with intangibles such as R&D and firm-specific tainty may lower the level of trust in the partner'\n",
      "40000\n",
      "' Environ- mental and social standards play a central role in enabling this'\n",
      "50000\n",
      "' Figure|6Jindicates a 2% increase in the mean  value of SR for the polio vaccine when combinations of sizes are used for both measles and BCG'\n",
      "60000\n",
      "' They develop an integrated approach to deter- mine the number of DCs to establish, the location of the DCs, and the magnitude of inventory to maintain at each cen- ter'\n",
      "70000\n",
      "'  Our findings extend the SCI literature by indicating the importance of SCI practices across industries in China'\n",
      "80000\n",
      "' We use a simple forecasting model to illustrate this phenomenon, excluding the possibility of other factors (e'\n",
      "90000\n",
      "'1 Interacting Agent Model on Complex Network  Hamiltonian Dynamics Our system consists of N company agents and M bank agents'\n",
      "0\n"
     ]
    }
   ],
   "source": [
    "generate_embeddings(\"input_table.xlsx\")"
   ]
  },
  {
   "cell_type": "code",
   "execution_count": null,
   "id": "affa9010",
   "metadata": {},
   "outputs": [],
   "source": []
  },
  {
   "cell_type": "code",
   "execution_count": 1,
   "id": "0ca15758",
   "metadata": {},
   "outputs": [
    {
     "name": "stderr",
     "output_type": "stream",
     "text": [
      "C:\\Users\\zhang\\.conda\\envs\\langchain\\lib\\site-packages\\pinecone\\index.py:4: TqdmWarning: IProgress not found. Please update jupyter and ipywidgets. See https://ipywidgets.readthedocs.io/en/stable/user_install.html\n",
      "  from tqdm.autonotebook import tqdm\n"
     ]
    }
   ],
   "source": [
    "import pinecone\n",
    "import random\n",
    "import itertools\n",
    "import pandas as pd\n",
    "import json\n",
    "import numpy as np\n",
    "#langchang environment"
   ]
  },
  {
   "cell_type": "code",
   "execution_count": 2,
   "id": "8de0bca6",
   "metadata": {},
   "outputs": [],
   "source": [
    "def chunks(iterable, batch_size=100):\n",
    "    \"\"\"A helper function to break an iterable into chunks of size batch_size.\"\"\"\n",
    "    it = iter(iterable)\n",
    "    chunk = list(itertools.islice(it, batch_size))\n",
    "    #print(chunk)\n",
    "    while chunk:\n",
    "        yield chunk\n",
    "        chunk = list(itertools.islice(it, batch_size))\n"
   ]
  },
  {
   "cell_type": "code",
   "execution_count": 3,
   "id": "a8b84b86",
   "metadata": {},
   "outputs": [],
   "source": [
    "embeddings=np.load(\"embeddings.npy\",allow_pickle=True).tolist()"
   ]
  },
  {
   "cell_type": "code",
   "execution_count": 6,
   "id": "654ad02a",
   "metadata": {},
   "outputs": [],
   "source": [
    "table=pd.read_excel(\"input_table.xlsx\")\n",
    "vector_dim = 384\n",
    "vector_count = len(table)\n",
    "\n",
    "# Example generator that generates many (id, vector) pairs\n",
    "data_generator = map(lambda i: (str(table[\"id\"][i]),embeddings[i],{\"text\":table[\"metadata\"][i][9:-1]}), range(0,vector_count))\n"
   ]
  },
  {
   "cell_type": "code",
   "execution_count": 7,
   "id": "2745d9c1",
   "metadata": {},
   "outputs": [],
   "source": [
    "index_name=\"textsearch\"\n",
    "pinecone.init(api_key=\"*****",environment=\"gcp-starter\")\n",
    "if index_name not in pinecone.list_indexes():\n",
    "    pinecone.create_index(index_name,dimension=vector_dim, metric=\"euclidean\")\n",
    "index = pinecone.Index(index_name)\n"
   ]
  },
  {
   "cell_type": "code",
   "execution_count": 8,
   "id": "d3ce3694",
   "metadata": {},
   "outputs": [],
   "source": [
    "for ids_vectors_chunk in chunks(data_generator, batch_size=100):\n",
    "    #print(ids_vectors_chunk)\n",
    "    index.upsert(vectors=ids_vectors_chunk)  #  `index` defined elsewhere"
   ]
  },
  {
   "cell_type": "code",
   "execution_count": null,
   "id": "2eb8309d",
   "metadata": {},
   "outputs": [],
   "source": []
  },
  {
   "cell_type": "code",
   "execution_count": 9,
   "id": "e3c760c1",
   "metadata": {},
   "outputs": [],
   "source": [
    "test_vector=[0.1 for i in range(0,384)]"
   ]
  },
  {
   "cell_type": "code",
   "execution_count": 10,
   "id": "ef1d1942",
   "metadata": {},
   "outputs": [
    {
     "name": "stdout",
     "output_type": "stream",
     "text": [
      "{'dimension': 384,\n",
      " 'index_fullness': 0.95691,\n",
      " 'namespaces': {'': {'vector_count': 95691}},\n",
      " 'total_vector_count': 95691}\n",
      "{'matches': [{'id': '21128',\n",
      "              'metadata': {'text': \"' Unfortunately, for realistic SCN design \"\n",
      "                                   'problems including continuous random '\n",
      "                                   'variables the model proposed is usually '\n",
      "                                   'intractable, and the objective of this '\n",
      "                                   'section is to propose com- plexity '\n",
      "                                   'reduction avenues to obtain a tractable '\n",
      "                                   'SCN design methodology capturing the '\n",
      "                                   \"essence of the problem'\"},\n",
      "              'score': 4.65727,\n",
      "              'values': []},\n",
      "             {'id': '71547',\n",
      "              'metadata': {'text': \"' By introducing “fit-gets-richer” \"\n",
      "                                   'mechanism [31], the fitter nodes have a '\n",
      "                                   'greater acquisition rate for links and '\n",
      "                                   'therefore, resulting network possess a '\n",
      "                                   \"scale-free property'\"},\n",
      "              'score': 4.67357969,\n",
      "              'values': []}],\n",
      " 'namespace': ''}\n"
     ]
    }
   ],
   "source": [
    "pinecone.init(api_key=\"9bb24233-a151-42f7-adf0-29cd5387b4f9\",environment=\"gcp-starter\")\n",
    "index = pinecone.Index(\"textsearch\")\n",
    "print(index.describe_index_stats())\n",
    "results = index.query(vector=test_vector, top_k=2,include_metadata=True)\n",
    "print(results)\n"
   ]
  },
  {
   "cell_type": "code",
   "execution_count": 10,
   "id": "2f04920f",
   "metadata": {},
   "outputs": [],
   "source": [
    "#pinecone.delete_index(\"textsearch\")"
   ]
  },
  {
   "cell_type": "code",
   "execution_count": null,
   "id": "7ccf46a9",
   "metadata": {},
   "outputs": [],
   "source": []
  },
  {
   "cell_type": "code",
   "execution_count": null,
   "id": "4c3d9a85",
   "metadata": {},
   "outputs": [],
   "source": []
  },
  {
   "cell_type": "code",
   "execution_count": 11,
   "id": "f4d0bb2e",
   "metadata": {},
   "outputs": [
    {
     "name": "stdout",
     "output_type": "stream",
     "text": [
      "1\n"
     ]
    }
   ],
   "source": [
    "table=pd.read_excel('test_sentence.xlsx')\n",
    "print(table)\n",
    "print(table[\"id\"][0])"
   ]
  },
  {
   "cell_type": "code",
   "execution_count": 20,
   "id": "6cb2cd53",
   "metadata": {},
   "outputs": [
    {
     "name": "stdout",
     "output_type": "stream",
     "text": [
      "this is a text sentence.\n"
     ]
    }
   ],
   "source": [
    "\n",
    "print(json.loads(table[\"metadata\"][0])[\"text\"])\n",
    "sentences = [json.loads(table[\"metadata\"][i])[\"text\"] for i in range(0,len(table))]"
   ]
  },
  {
   "cell_type": "code",
   "execution_count": 12,
   "id": "ba5c0101",
   "metadata": {},
   "outputs": [
    {
     "name": "stdout",
     "output_type": "stream",
     "text": [
      "(3, 384)\n"
     ]
    }
   ],
   "source": [
    "\n",
    "model = SentenceTransformer('sentence-transformers/all-MiniLM-L6-v2',device=\"cuda\")\n",
    "embeddings = model.encode(sentences,batch_size=128)\n",
    "print(embeddings.shape)"
   ]
  },
  {
   "cell_type": "code",
   "execution_count": 28,
   "id": "a8b5700a",
   "metadata": {},
   "outputs": [
    {
     "name": "stdout",
     "output_type": "stream",
     "text": [
      "(384,)\n"
     ]
    }
   ],
   "source": [
    "print(embeddings[0].shape)"
   ]
  },
  {
   "cell_type": "code",
   "execution_count": 40,
   "id": "287abe8a",
   "metadata": {},
   "outputs": [],
   "source": [
    "high_dimensional_vector = np.array([1, 2, 3, 4, 5])\n",
    "\n",
    "table['values'] = table['values'].astype('object')\n",
    "for i in range(0,len(table)):\n",
    "    table.at[i,\"values\"]=embeddings[i]"
   ]
  },
  {
   "cell_type": "code",
   "execution_count": 42,
   "id": "c159a7bf",
   "metadata": {},
   "outputs": [
    {
     "name": "stdout",
     "output_type": "stream",
     "text": [
      "   id                                             values  \\\n",
      "0   1  [0.06502406, 0.1134022, 0.021272574, 0.0413065...   \n",
      "1   2  [0.042979643, 0.037376266, 0.033118986, 0.0011...   \n",
      "2   3  [0.062370148, 0.051169552, -0.004120658, 0.010...   \n",
      "\n",
      "                              metadata  \n",
      "0  {\"text\":\"this is a text sentence.\"}  \n",
      "1         {\"text\":\"this is an apple.\"}  \n",
      "2            {\"text\":\"This is a cat.\"}  \n"
     ]
    }
   ],
   "source": [
    "print(table)\n",
    "table.to_excel(\"output.xlsx\")  "
   ]
  },
  {
   "cell_type": "code",
   "execution_count": null,
   "id": "0a4030c8",
   "metadata": {},
   "outputs": [],
   "source": []
  },
  {
   "cell_type": "code",
   "execution_count": null,
   "id": "36b8926b",
   "metadata": {},
   "outputs": [],
   "source": []
  }
 ],
 "metadata": {
  "kernelspec": {
   "display_name": "firstEnv",
   "language": "python",
   "name": "firstenv"
  },
  "language_info": {
   "codemirror_mode": {
    "name": "ipython",
    "version": 3
   },
   "file_extension": ".py",
   "mimetype": "text/x-python",
   "name": "python",
   "nbconvert_exporter": "python",
   "pygments_lexer": "ipython3",
   "version": "3.9.18"
  }
 },
 "nbformat": 4,
 "nbformat_minor": 5
}
