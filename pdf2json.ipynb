{
  "nbformat": 4,
  "nbformat_minor": 0,
  "metadata": {
    "colab": {
      "provenance": [],
      "include_colab_link": true
    },
    "kernelspec": {
      "name": "python3",
      "display_name": "Python 3"
    },
    "language_info": {
      "name": "python"
    }
  },
  "cells": [
    {
      "cell_type": "markdown",
      "metadata": {
        "id": "view-in-github",
        "colab_type": "text"
      },
      "source": [
        "<a href=\"https://colab.research.google.com/github/lwp20/columbia-accenture-knowledge-graph-for-supply-chains/blob/main/pdf2json.ipynb\" target=\"_parent\"><img src=\"https://colab.research.google.com/assets/colab-badge.svg\" alt=\"Open In Colab\"/></a>"
      ]
    },
    {
      "cell_type": "code",
      "source": [
        "# pip install PyPDF2"
      ],
      "metadata": {
        "id": "3Mom0X5vpIPY"
      },
      "execution_count": null,
      "outputs": []
    },
    {
      "cell_type": "code",
      "source": [
        "pip install pytesseract"
      ],
      "metadata": {
        "id": "FADYf6o8Us78",
        "colab": {
          "base_uri": "https://localhost:8080/"
        },
        "outputId": "6accfb96-4eee-463a-b907-a5129664b30d"
      },
      "execution_count": null,
      "outputs": [
        {
          "output_type": "stream",
          "name": "stdout",
          "text": [
            "Requirement already satisfied: pytesseract in /usr/local/lib/python3.10/dist-packages (0.3.10)\n",
            "Requirement already satisfied: packaging>=21.3 in /usr/local/lib/python3.10/dist-packages (from pytesseract) (23.2)\n",
            "Requirement already satisfied: Pillow>=8.0.0 in /usr/local/lib/python3.10/dist-packages (from pytesseract) (9.4.0)\n"
          ]
        }
      ]
    },
    {
      "cell_type": "code",
      "source": [
        "!sudo apt install tesseract-ocr"
      ],
      "metadata": {
        "id": "zxhqkcNGd82h",
        "colab": {
          "base_uri": "https://localhost:8080/"
        },
        "outputId": "a3e9189d-a11e-4317-e890-1e2e96532f82"
      },
      "execution_count": null,
      "outputs": [
        {
          "output_type": "stream",
          "name": "stdout",
          "text": [
            "Reading package lists... Done\n",
            "Building dependency tree... Done\n",
            "Reading state information... Done\n",
            "tesseract-ocr is already the newest version (4.1.1-2.1build1).\n",
            "0 upgraded, 0 newly installed, 0 to remove and 18 not upgraded.\n"
          ]
        }
      ]
    },
    {
      "cell_type": "code",
      "source": [
        "pip install pdf2image"
      ],
      "metadata": {
        "id": "v5iL3zvNUqVY",
        "colab": {
          "base_uri": "https://localhost:8080/"
        },
        "outputId": "0e896776-2888-4101-e4d3-eb87f1cac598"
      },
      "execution_count": null,
      "outputs": [
        {
          "output_type": "stream",
          "name": "stdout",
          "text": [
            "Requirement already satisfied: pdf2image in /usr/local/lib/python3.10/dist-packages (1.16.3)\n",
            "Requirement already satisfied: pillow in /usr/local/lib/python3.10/dist-packages (from pdf2image) (9.4.0)\n"
          ]
        }
      ]
    },
    {
      "cell_type": "code",
      "source": [
        "!apt-get install poppler-utils"
      ],
      "metadata": {
        "id": "cm0uj_nIUoai",
        "colab": {
          "base_uri": "https://localhost:8080/"
        },
        "outputId": "c600c7a9-efc7-45e7-c16e-32f7fe9b1483"
      },
      "execution_count": null,
      "outputs": [
        {
          "output_type": "stream",
          "name": "stdout",
          "text": [
            "Reading package lists... Done\n",
            "Building dependency tree... Done\n",
            "Reading state information... Done\n",
            "poppler-utils is already the newest version (22.02.0-2ubuntu0.2).\n",
            "0 upgraded, 0 newly installed, 0 to remove and 18 not upgraded.\n"
          ]
        }
      ]
    },
    {
      "cell_type": "code",
      "source": [
        "pip install PyMuPDF"
      ],
      "metadata": {
        "id": "PBXiodQhUjcL",
        "colab": {
          "base_uri": "https://localhost:8080/"
        },
        "outputId": "0f442a6b-73b5-4ae4-c675-ef97ef2b8049"
      },
      "execution_count": null,
      "outputs": [
        {
          "output_type": "stream",
          "name": "stdout",
          "text": [
            "Requirement already satisfied: PyMuPDF in /usr/local/lib/python3.10/dist-packages (1.23.4)\n",
            "Requirement already satisfied: PyMuPDFb==1.23.3 in /usr/local/lib/python3.10/dist-packages (from PyMuPDF) (1.23.3)\n"
          ]
        }
      ]
    },
    {
      "cell_type": "code",
      "source": [
        "# pip install fitz"
      ],
      "metadata": {
        "id": "eRhfcuu3T_7f"
      },
      "execution_count": null,
      "outputs": []
    },
    {
      "cell_type": "code",
      "source": [
        "pip install pdfplumber"
      ],
      "metadata": {
        "id": "2VNg7FPqVF_1",
        "colab": {
          "base_uri": "https://localhost:8080/"
        },
        "outputId": "a74316ea-f46e-4661-e1fa-4a9f6aa83b7c"
      },
      "execution_count": null,
      "outputs": [
        {
          "output_type": "stream",
          "name": "stdout",
          "text": [
            "Requirement already satisfied: pdfplumber in /usr/local/lib/python3.10/dist-packages (0.10.2)\n",
            "Requirement already satisfied: pdfminer.six==20221105 in /usr/local/lib/python3.10/dist-packages (from pdfplumber) (20221105)\n",
            "Requirement already satisfied: Pillow>=9.1 in /usr/local/lib/python3.10/dist-packages (from pdfplumber) (9.4.0)\n",
            "Requirement already satisfied: pypdfium2>=4.18.0 in /usr/local/lib/python3.10/dist-packages (from pdfplumber) (4.20.0)\n",
            "Requirement already satisfied: charset-normalizer>=2.0.0 in /usr/local/lib/python3.10/dist-packages (from pdfminer.six==20221105->pdfplumber) (3.3.0)\n",
            "Requirement already satisfied: cryptography>=36.0.0 in /usr/local/lib/python3.10/dist-packages (from pdfminer.six==20221105->pdfplumber) (41.0.4)\n",
            "Requirement already satisfied: cffi>=1.12 in /usr/local/lib/python3.10/dist-packages (from cryptography>=36.0.0->pdfminer.six==20221105->pdfplumber) (1.16.0)\n",
            "Requirement already satisfied: pycparser in /usr/local/lib/python3.10/dist-packages (from cffi>=1.12->cryptography>=36.0.0->pdfminer.six==20221105->pdfplumber) (2.21)\n"
          ]
        }
      ]
    },
    {
      "cell_type": "code",
      "source": [
        "from google.colab import drive\n",
        "drive.mount('/content/drive')"
      ],
      "metadata": {
        "colab": {
          "base_uri": "https://localhost:8080/"
        },
        "id": "Mm7oMD-dSrUI",
        "outputId": "b909187d-2875-42e2-9acd-9fc5c029c03c"
      },
      "execution_count": null,
      "outputs": [
        {
          "output_type": "stream",
          "name": "stdout",
          "text": [
            "Drive already mounted at /content/drive; to attempt to forcibly remount, call drive.mount(\"/content/drive\", force_remount=True).\n"
          ]
        }
      ]
    },
    {
      "cell_type": "code",
      "source": [
        "import platform\n",
        "from tempfile import TemporaryDirectory\n",
        "from pathlib import Path\n",
        "import pytesseract\n",
        "from pdf2image import convert_from_path\n",
        "from PIL import Image\n",
        "import pdfplumber\n",
        "import time\n",
        "import os\n",
        "import json"
      ],
      "metadata": {
        "id": "d6iGjfBVTSa_"
      },
      "execution_count": null,
      "outputs": []
    },
    {
      "cell_type": "markdown",
      "source": [
        "# **processing PDF**"
      ],
      "metadata": {
        "id": "eqWLYDZLTwq3"
      }
    },
    {
      "cell_type": "markdown",
      "source": [
        "Method 1. Extract text directly."
      ],
      "metadata": {
        "id": "ysMv1J1nrgPQ"
      }
    },
    {
      "cell_type": "code",
      "source": [
        "def read_pdf_plum(file, file_path, target_path):\n",
        "    '''\n",
        "    Extract text directly if it is detectable\n",
        "    '''\n",
        "    with pdfplumber.open(file_path) as pdf:\n",
        "        page_num = 1\n",
        "        dictionary = {'Article': file}\n",
        "        innerdict = {}\n",
        "        for page in pdf.pages:\n",
        "            text = page.extract_text()\n",
        "            text = text.replace(\"\\n\", \" \")\n",
        "            page_str = str(page_num)\n",
        "            innerdict ['page_'+page_str+'_text'] = text\n",
        "            page_num += 1\n",
        "\n",
        "        dictionary['plum_contents'] = innerdict\n",
        "\n",
        "        target_file = file[:-4] + '.json'\n",
        "        write_json(target_path, target_file, dictionary)\n"
      ],
      "metadata": {
        "id": "X-Ok8Fqric9A"
      },
      "execution_count": null,
      "outputs": []
    },
    {
      "cell_type": "markdown",
      "source": [
        "Method 2. using OCR"
      ],
      "metadata": {
        "id": "KzxYlz1Ar7ji"
      }
    },
    {
      "cell_type": "code",
      "source": [
        "def OCR_singlefile(file, file_path, target_path):\n",
        "    '''\n",
        "    Extract text from scanned pdfs using OCR\n",
        "    '''\n",
        "    image_file_list = []\n",
        "    # Part1 : Converting PDF to images\n",
        "    with TemporaryDirectory() as tempdir:\n",
        "        pdf_pages = convert_from_path(file_path, 500)\n",
        "        for page_enumeration, page in enumerate(pdf_pages, start=1):\n",
        "            filename = f\"{tempdir}\\page_{page_enumeration:03}.jpg\"\n",
        "            page.save(filename, \"JPEG\")\n",
        "            image_file_list.append(filename)\n",
        "\n",
        "    #Part2 - Recognizing text from the images using OCR\n",
        "        page_num = 1\n",
        "        dictionary = {'Article': file}\n",
        "        innerdict = {}\n",
        "        for image_file in image_file_list:\n",
        "            text = str(((pytesseract.image_to_string(Image.open(image_file)))))\n",
        "            text = text.replace(\"\\n\", \" \")\n",
        "            page_str = str(page_num)\n",
        "            innerdict ['page_'+page_str+'_text'] = text\n",
        "            page_num += 1\n",
        "\n",
        "        dictionary['ocr_contents'] = innerdict\n",
        "\n",
        "        target_file = file[:-4] + '.json'\n",
        "        write_json(target_path, target_file, dictionary)"
      ],
      "metadata": {
        "id": "H1UVqu1I3CfV"
      },
      "execution_count": null,
      "outputs": []
    },
    {
      "cell_type": "markdown",
      "source": [
        "## **pre-processing PDF (judge text or pic)**"
      ],
      "metadata": {
        "id": "YLgA1jzjS8JP"
      }
    },
    {
      "cell_type": "code",
      "source": [
        "def pdfplumber_jud_pdf(filename):\n",
        "    '''\n",
        "    Decide whether the pdf contains scanned pictures that can not be detected as texts directly\n",
        "    '''\n",
        "    doc = pdfplumber.open(filename)\n",
        "    for pages in doc.pages:\n",
        "        extraction = pages.extract_words()\n",
        "        words_lengths = [len(dictionary['text']) for dictionary in extraction]\n",
        "        # If the texts are not readable, return False\n",
        "        if not extraction:\n",
        "            return False\n",
        "        # Or if the texts can not be splitted by words, return False\n",
        "        elif max(words_lengths) > 50:\n",
        "            return False\n",
        "        else:\n",
        "            return True\n"
      ],
      "metadata": {
        "id": "zqErOlUtTv1B"
      },
      "execution_count": null,
      "outputs": []
    },
    {
      "cell_type": "markdown",
      "source": [
        "# **Output as jason**"
      ],
      "metadata": {
        "id": "ra5lYbn0L88w"
      }
    },
    {
      "cell_type": "code",
      "source": [
        "def write_json(target_path, target_file, data):\n",
        "    '''\n",
        "    Output extracted results as a json file\n",
        "    '''\n",
        "    if not os.path.exists(target_path):\n",
        "        try:\n",
        "            os.makedirs(target_path)\n",
        "        except Exception as e:\n",
        "            print(e)\n",
        "            raise\n",
        "    file_path = target_path + '/' + target_file\n",
        "    with open(file_path, 'w') as f:\n",
        "        json.dump(data, f)"
      ],
      "metadata": {
        "id": "fYbVwKvFPSVb"
      },
      "execution_count": null,
      "outputs": []
    },
    {
      "cell_type": "code",
      "source": [
        "def text_extraction(in_path, target_path):\n",
        "    '''\n",
        "    Extract text from pdf files.\n",
        "    If the file contains scanned pictures, extract using OCR.\n",
        "    Otherwise, extract text directly.\n",
        "    Output a json file for every file\n",
        "    '''\n",
        "    for file in os.listdir(in_path):\n",
        "        if file.endswith(\".pdf\"):\n",
        "            print(file)\n",
        "            # if file[:-4]\n",
        "            start = time.time()\n",
        "            file_path = in_path + '/' + file\n",
        "            if pdfplumber_jud_pdf(file_path):\n",
        "                texts = read_pdf_plum(file, file_path, target_path)\n",
        "            else:\n",
        "                texts = OCR_singlefile(file, file_path, target_path)\n",
        "            end = time.time()\n",
        "            print(file + ': ' + str(end - start))"
      ],
      "metadata": {
        "id": "heV0kA13O805"
      },
      "execution_count": null,
      "outputs": []
    },
    {
      "cell_type": "code",
      "source": [
        "in_path = '/content/drive/MyDrive/capstone/PDF1'\n",
        "out_path = '/content/drive/MyDrive/capstone/Jsons'\n",
        "text_extraction(in_path, out_path)"
      ],
      "metadata": {
        "id": "_g-Nn8_dPWyQ"
      },
      "execution_count": null,
      "outputs": []
    },
    {
      "cell_type": "code",
      "source": [],
      "metadata": {
        "id": "Peop993Qc2ZS"
      },
      "execution_count": null,
      "outputs": []
    },
    {
      "cell_type": "code",
      "source": [],
      "metadata": {
        "id": "IZmEFj1Fc2eE"
      },
      "execution_count": null,
      "outputs": []
    },
    {
      "cell_type": "code",
      "source": [],
      "metadata": {
        "id": "UWIVqLg9qGBF"
      },
      "execution_count": null,
      "outputs": []
    },
    {
      "cell_type": "code",
      "source": [],
      "metadata": {
        "id": "znSQbak-qGDS"
      },
      "execution_count": null,
      "outputs": []
    },
    {
      "cell_type": "code",
      "source": [],
      "metadata": {
        "id": "1p8HQQaxqGMP"
      },
      "execution_count": null,
      "outputs": []
    },
    {
      "cell_type": "code",
      "source": [],
      "metadata": {
        "id": "4gkrp-zOc2nV"
      },
      "execution_count": null,
      "outputs": []
    },
    {
      "cell_type": "code",
      "source": [
        "### 下面是草稿 不用看"
      ],
      "metadata": {
        "id": "SKzc3AcohXMm"
      },
      "execution_count": null,
      "outputs": []
    },
    {
      "cell_type": "code",
      "execution_count": null,
      "metadata": {
        "id": "rY8VA-1to2zJ"
      },
      "outputs": [],
      "source": [
        "import os\n",
        "from PyPDF2 import PdfReader\n",
        "\n",
        "# file_texts = {}\n",
        "# for file in os.listdir(\".\"):\n",
        "#     if file.endswith(\".pdf\"):\n",
        "#         texts = []\n",
        "#         reader = PdfReader(file)\n",
        "#         for page in reader.pages:\n",
        "#             text = page.extract_text()\n",
        "#             texts += text.split()\n",
        "#         file_texts[file] = texts\n",
        "\n",
        "def read_pdf(file):\n",
        "    texts = []\n",
        "    reader = PdfReader(file)\n",
        "    for page in reader.pages:\n",
        "        text = page.extract_text()\n",
        "        texts += text.split()\n",
        "    return texts\n"
      ]
    },
    {
      "cell_type": "code",
      "source": [
        "def OCR(path):\n",
        "    '''\n",
        "    path - the folder of pdf files to read from\n",
        "    '''\n",
        "    file_text = {}\n",
        "    for file in os.listdir(path):\n",
        "        if file.endswith(\".pdf\"):\n",
        "            image_file_list = []\n",
        "            # Part1 : Converting PDF to images\n",
        "            with TemporaryDirectory() as tempdir:\n",
        "                pdf_pages = convert_from_path(file, 500)\n",
        "                for page_enumeration, page in enumerate(pdf_pages, start=1):\n",
        "                    filename = f\"{tempdir}\\page_{page_enumeration:03}.jpg\"\n",
        "                    page.save(filename, \"JPEG\")\n",
        "                    image_file_list.append(filename)\n",
        "\n",
        "            #Part2 - Recognizing text from the images using OCR\n",
        "            texts = []\n",
        "            for image_file in image_file_list:\n",
        "                text = str(((pytesseract.image_to_string(Image.open(image_file)))))\n",
        "                text = text.replace(\"-\\n\", \"\")\n",
        "                texts += text.split()\n",
        "            file_text[file] = texts\n",
        "    return file_text\n",
        "\n",
        "\n",
        "\n",
        "\n",
        "\n",
        "def OCR_singlefile(file):\n",
        "    image_file_list = []\n",
        "    # Part1 : Converting PDF to images\n",
        "    with TemporaryDirectory() as tempdir:\n",
        "        pdf_pages = convert_from_path(file, 500)\n",
        "        for page_enumeration, page in enumerate(pdf_pages, start=1):\n",
        "            filename = f\"{tempdir}\\page_{page_enumeration:03}.jpg\"\n",
        "            page.save(filename, \"JPEG\")\n",
        "            image_file_list.append(filename)\n",
        "\n",
        "    #Part2 - Recognizing text from the images using OCR\n",
        "    texts = []\n",
        "    for image_file in image_file_list:\n",
        "        text = str(((pytesseract.image_to_string(Image.open(image_file)))))\n",
        "        text = text.replace(\"-\\n\", \"\")\n",
        "        texts += text.split()\n",
        "\n",
        "    return texts"
      ],
      "metadata": {
        "id": "ok4ii3OzpFsz"
      },
      "execution_count": null,
      "outputs": []
    },
    {
      "cell_type": "code",
      "source": [
        "file_path = ('/content/drive/MyDrive/colab')\n",
        "\n",
        "file_texts = {}\n",
        "for file in os.listdir(file_path): ##there's some problem with the path, need to consider later\n",
        "    if file.endswith(\".pdf\"):\n",
        "        if pdfplumber_jud_pdf(file):\n",
        "          texts = read_pdf_plum(file)\n",
        "        else:\n",
        "          texts = OCR_singlefile(file)\n",
        "        file_texts[file] = texts\n"
      ],
      "metadata": {
        "id": "_e7Ig7gl6_XE"
      },
      "execution_count": null,
      "outputs": []
    },
    {
      "cell_type": "code",
      "source": [
        "\n",
        "def pdfplumber_judee_pdf(filename):\n",
        "    doc = pdfplumber.open(filename)\n",
        "    for page in doc.pages:\n",
        "        # print(page.extract_words())\n",
        "        if not page.extract_words():\n",
        "            return False\n",
        "    return True\n",
        "\n"
      ],
      "metadata": {
        "id": "VkJ3l210PW2-"
      },
      "execution_count": null,
      "outputs": []
    },
    {
      "cell_type": "code",
      "source": [
        "pdfplumber_judee_pdf(\"/content/drive/MyDrive/colab/2306.04819.pdf\")"
      ],
      "metadata": {
        "colab": {
          "base_uri": "https://localhost:8080/"
        },
        "id": "ZtrnQ9IFPW0e",
        "outputId": "7ebc918a-7074-4152-ea00-c5104119d81c"
      },
      "execution_count": null,
      "outputs": [
        {
          "output_type": "execute_result",
          "data": {
            "text/plain": [
              "False"
            ]
          },
          "metadata": {},
          "execution_count": 60
        }
      ]
    },
    {
      "cell_type": "code",
      "source": [],
      "metadata": {
        "id": "ivpxJmgtXWJ4"
      },
      "execution_count": null,
      "outputs": []
    }
  ]
}