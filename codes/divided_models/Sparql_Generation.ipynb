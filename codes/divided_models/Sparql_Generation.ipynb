{
 "cells": [
  {
   "cell_type": "code",
   "execution_count": 1,
   "metadata": {
    "executionInfo": {
     "elapsed": 3,
     "status": "ok",
     "timestamp": 1700711206599,
     "user": {
      "displayName": "Yunjie Qian",
      "userId": "16160804486899806073"
     },
     "user_tz": 300
    },
    "id": "qWCtwLligA7s"
   },
   "outputs": [],
   "source": [
    "# from google.colab import drive\n",
    "# drive.mount('/content/drive')"
   ]
  },
  {
   "cell_type": "code",
   "execution_count": 2,
   "metadata": {
    "executionInfo": {
     "elapsed": 124,
     "status": "ok",
     "timestamp": 1700711206721,
     "user": {
      "displayName": "Yunjie Qian",
      "userId": "16160804486899806073"
     },
     "user_tz": 300
    },
    "id": "KYyyzGRQgGLA"
   },
   "outputs": [],
   "source": [
    "import requests\n",
    "\n",
    "API_URL = \"https://api-inference.huggingface.co/models/bigscience/bloom\"\n",
    "headers = {\"Authorization\": \"API_token\"}"
   ]
  },
  {
   "cell_type": "code",
   "execution_count": 3,
   "metadata": {
    "executionInfo": {
     "elapsed": 6,
     "status": "ok",
     "timestamp": 1700711206721,
     "user": {
      "displayName": "Yunjie Qian",
      "userId": "16160804486899806073"
     },
     "user_tz": 300
    },
    "id": "sDouAysaggV4"
   },
   "outputs": [],
   "source": [
    "def query(payload):\n",
    "    response = requests.post(API_URL, headers=headers, json=payload)\n",
    "    return response.json()"
   ]
  },
  {
   "cell_type": "code",
   "execution_count": 4,
   "metadata": {
    "colab": {
     "base_uri": "https://localhost:8080/"
    },
    "executionInfo": {
     "elapsed": 6777,
     "status": "ok",
     "timestamp": 1700711213493,
     "user": {
      "displayName": "Yunjie Qian",
      "userId": "16160804486899806073"
     },
     "user_tz": 300
    },
    "id": "waprtI8LgyeE",
    "outputId": "2dee267a-9c0f-4cee-cecf-a8c651a081a7"
   },
   "outputs": [
    {
     "name": "stdout",
     "output_type": "stream",
     "text": [
      "Please input RDF namespace:<ex>\n",
      "Please input the question:What companies provided the raw materials of Coca Cola?\n",
      "\n",
      "SELECT DISTINCT ?company WHERE {\n",
      "  ?company rdf:type <http://ex.org/company>\n"
     ]
    }
   ],
   "source": [
    "namespace = input(\"Please input RDF namespace:\")\n",
    "question = input(\"Please input the question:\")\n",
    "\n",
    "prompt = f'''\n",
    "\n",
    "Imagine you are a SPARQL generation model operating within the {namespace} RDF namespace. Your task is to convert natural language questions into SPARQL queries. You should consider that RDF data consists of subject-predicate-object triplets. The subject represents a resource or entity, the predicate signifies the relationship between the subject and the object, and the object is the value or target of the statement. If no triples are found, your response should be 'None.' Provide the SPARQL query only, excluding any other words in your answer.\n",
    "Here is are two examples you can refer to.\n",
    "\n",
    "Here is the sentence.\n",
    "{question}\n",
    "\n",
    "Answer:'''\n",
    "\n",
    "\n",
    "output = query({\"inputs\": prompt})\n",
    "output_text = output[0]['generated_text']\n",
    "output_text = output_text.replace(prompt, '')\n",
    "print(output_text)\n"
   ]
  },
  {
   "cell_type": "code",
   "execution_count": 4,
   "metadata": {
    "executionInfo": {
     "elapsed": 4,
     "status": "ok",
     "timestamp": 1700711213494,
     "user": {
      "displayName": "Yunjie Qian",
      "userId": "16160804486899806073"
     },
     "user_tz": 300
    },
    "id": "O76quU9xi2aK"
   },
   "outputs": [],
   "source": []
  }
 ],
 "metadata": {
  "colab": {
   "provenance": []
  },
  "kernelspec": {
   "display_name": "Python 3 (ipykernel)",
   "language": "python",
   "name": "python3"
  },
  "language_info": {
   "codemirror_mode": {
    "name": "ipython",
    "version": 3
   },
   "file_extension": ".py",
   "mimetype": "text/x-python",
   "name": "python",
   "nbconvert_exporter": "python",
   "pygments_lexer": "ipython3",
   "version": "3.9.13"
  }
 },
 "nbformat": 4,
 "nbformat_minor": 1
}
